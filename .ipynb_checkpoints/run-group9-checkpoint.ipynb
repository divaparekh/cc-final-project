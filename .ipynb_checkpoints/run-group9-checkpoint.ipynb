{
 "cells": [
  {
   "cell_type": "code",
   "execution_count": 1,
   "metadata": {},
   "outputs": [],
   "source": [
    "import pandas as pd\n",
    "import numpy as np\n",
    "import matplotlib.pyplot as plt"
   ]
  },
  {
   "cell_type": "code",
   "execution_count": 2,
   "metadata": {},
   "outputs": [],
   "source": [
    "# queueing type = none, red, codel, pscodel\n",
    "# filename format: queueingType-hiBandwidth-loBandwidth-#connections-packetLen-queueSize-interval.output\n",
    "files = []"
   ]
  },
  {
   "cell_type": "code",
   "execution_count": 3,
   "metadata": {},
   "outputs": [],
   "source": [
    "column_headers = ['ID','Start Time (sec)','End Time (sec)','Transfer (Kbytes)','Bandwidth (Kbits/sec)',\n",
    "                  'Lost','Total','Pct Lost','Link Utilization (%)','Packet Delay (ms)']"
   ]
  },
  {
   "cell_type": "code",
   "execution_count": 4,
   "metadata": {},
   "outputs": [],
   "source": [
    "def make_dataframe(filename): # make sure this includes the filepath\n",
    "    file = open(filename, 'r')\n",
    "    # This boolean tells us whether we've seen [ ID] - this will be the header column of our table\n",
    "    start_analyzing = False\n",
    "    data_table = []\n",
    "\n",
    "    for line in file:\n",
    "\n",
    "        if \"[ ID]\" in line:\n",
    "            start_analyzing = True\n",
    "            continue\n",
    "\n",
    "        if not start_analyzing or \"[SUM]\" in line or \"out-of-order\" in line:\n",
    "            continue\n",
    "\n",
    "        #print(line)\n",
    "\n",
    "        ID = int(line[3])\n",
    "\n",
    "        line = line[6:]\n",
    "\n",
    "        start_time = 0\n",
    "\n",
    "        if line[1] == \".\":\n",
    "            start_time = int(line[0])\n",
    "            line = line[5:]\n",
    "        elif line[2] == \".\":\n",
    "            start_time = int(line[0:2])\n",
    "            line = line[6:]\n",
    "        else:\n",
    "            print(\"Error in getting start_time\")\n",
    "\n",
    "        end_time = 0\n",
    "\n",
    "        if line[1] == \".\":\n",
    "            end_time = int(line[0])\n",
    "            line = line[10:]\n",
    "        elif line[2] == \".\":\n",
    "            end_time = int(line[0:2])\n",
    "            line = line[11:]\n",
    "        else:\n",
    "            print(\"Error in getting end_time\")\n",
    "\n",
    "        if end_time - start_time > 10:\n",
    "            continue\n",
    "            \n",
    "        data = line.split()\n",
    "        #print(data)\n",
    "\n",
    "        transfer = float(data[0])\n",
    "        #ignore data[1]\n",
    "        bandwidth = float(data[2])\n",
    "        #ignore data[3]\n",
    "        #ignore data[4] - but, if jitter = 0, line is bad\n",
    "        if float(data[4]) == 0:\n",
    "            continue\n",
    "        #ignore data[5]\n",
    "        lost = int(data[6].split('/')[0])\n",
    "        total = int(data[7])\n",
    "        pct_lost = float(data[8][1:].split('%')[0])\n",
    "        link_util = ((transfer * 8) / (end_time - start_time)) / bandwidth * 100\n",
    "        packet_delay = float(data[9].split('/')[0])\n",
    "        #ignore the rest\n",
    "\n",
    "        data_row = [ID,start_time,end_time,transfer,bandwidth,lost,total,pct_lost,link_util,packet_delay]\n",
    "        data_table.append(data_row)\n",
    "\n",
    "        #print(\"data_row:\",data_row)\n",
    "\n",
    "    return pd.DataFrame(data_table, columns=column_headers)"
   ]
  },
  {
   "cell_type": "markdown",
   "metadata": {},
   "source": [
    "# Note for Reviewers\n",
    "The next cell is one sample result you can recreate by running the iPerf command lines in our Instructions Google Doc.\n",
    "\n",
    "Note that these results will be similar but not necessarily the same because each run will give slightly different outputs.\n",
    "\n",
    "We also experimented with different iPerf settings, but we are still working toward reducing our link utilization, and we would be welcome to any suggestions.\n",
    "\n",
    "To recreate our results in the cell below, you can run the following two lines, replacing 'server_outputs/target.output' with your file path and file name."
   ]
  },
  {
   "cell_type": "code",
   "execution_count": 5,
   "metadata": {},
   "outputs": [],
   "source": [
    "# CHANGE LATER\n",
    "#bandwidths = [50, 64]"
   ]
  },
  {
   "cell_type": "code",
   "execution_count": 6,
   "metadata": {},
   "outputs": [],
   "source": [
    "# Parsing Group 9's Output\n",
    "#df_group9_none_50 = make_dataframe('server_outputs/group9_none_50.output')\n",
    "#df_group9_none_64 = make_dataframe('server_outputs/group9_none_64.output')\n",
    "#df_group9_red_50 = make_dataframe('server_outputs/group9_red_50.output')\n",
    "#df_group9_red_64 = make_dataframe('server_outputs/group9_red_64.output')\n",
    "#df_group9_codel_50 = make_dataframe('server_outputs/group9_codel_50.output')\n",
    "#df_group9_codel_64 = make_dataframe('server_outputs/group9_codel_64.output')\n",
    "\n"
   ]
  },
  {
   "cell_type": "code",
   "execution_count": 7,
   "metadata": {},
   "outputs": [],
   "source": [
    "# Parsing Reviewer's Output\n",
    "#df_reviewer_none_50 = make_dataframe('reviewer_none_50.output')\n",
    "#df_reviewer_none_64 = make_dataframe('reviewer_none_64.output')\n",
    "#df_reviewer_red_50 = make_dataframe('reviewer_red_50.output')\n",
    "#df_reviewer_red_64 = make_dataframe('reviewer_red_64.output')\n",
    "#df_reviewer_codel_50 = make_dataframe('reviewer_codel_50.output')\n",
    "#df_reviewer_codel_64 = make_dataframe('reviewer_codel_64.output')\n",
    "\n"
   ]
  },
  {
   "cell_type": "code",
   "execution_count": 8,
   "metadata": {},
   "outputs": [],
   "source": [
    "target_df = make_dataframe('server_outputs/target.output')\n",
    "#target_df"
   ]
  },
  {
   "cell_type": "code",
   "execution_count": 9,
   "metadata": {},
   "outputs": [],
   "source": [
    "df10 = make_dataframe('server_outputs/server10.output')\n",
    "#df10"
   ]
  },
  {
   "cell_type": "code",
   "execution_count": 10,
   "metadata": {},
   "outputs": [],
   "source": [
    "df10.sort_values(by=['ID','Start Time (sec)'],inplace=True)\n",
    "#df10"
   ]
  },
  {
   "cell_type": "code",
   "execution_count": 11,
   "metadata": {},
   "outputs": [],
   "source": [
    "df11 = make_dataframe('server_outputs/none-200-50-7-300.output')\n",
    "#df11"
   ]
  },
  {
   "cell_type": "code",
   "execution_count": 12,
   "metadata": {},
   "outputs": [],
   "source": [
    "group9_df = make_dataframe('server_outputs/none-200-50-6-800.output')\n",
    "#group9_df"
   ]
  },
  {
   "cell_type": "code",
   "execution_count": 13,
   "metadata": {},
   "outputs": [],
   "source": [
    "#print(group9_df['Packet Delay (ms)'])"
   ]
  },
  {
   "cell_type": "code",
   "execution_count": 14,
   "metadata": {},
   "outputs": [
    {
     "data": {
      "image/png": "[encoded data removed]",
      "text/plain": [
       "<matplotlib.figure.Figure at 0x7f94e137dc50>"
      ]
     },
     "metadata": {
      "needs_background": "light"
     },
     "output_type": "display_data"
    }
   ],
   "source": [
    "# How to create a box and whisker plot\n",
    "# Wanna create this plot for (y-axis) link utilization and packet delay for each AQM\n",
    "# x-axis = bottleneck bandwidths --> for each experiment, \n",
    "    # either fix ratio of high bw to low bw or fix high bw --> ask Erfan\n",
    "\n",
    "data = [df10['Packet Delay (ms)'],\n",
    "       df11['Packet Delay (ms)'],\n",
    "       group9_df['Packet Delay (ms)']]\n",
    "    \n",
    "# plt.boxplot(np.array(df14['Packet Delay (ms)'], df13['Packet Delay (ms)']))\n",
    "\n",
    "fig1 = plt.boxplot(data)\n"
   ]
  },
  {
   "cell_type": "code",
   "execution_count": 15,
   "metadata": {},
   "outputs": [
    {
     "data": {
      "image/png": "[encoded data removed]",
      "text/plain": [
       "<matplotlib.figure.Figure at 0x7f94e0fe6908>"
      ]
     },
     "metadata": {
      "needs_background": "light"
     },
     "output_type": "display_data"
    }
   ],
   "source": [
    "# AQM = None\n",
    "# Variable = Packet Delay\n",
    "# Left plot = Group 9's Results\n",
    "# Right plot = Reviewer's Results\n",
    "\n",
    "# Notation: who_df_AQM_bw-low\n",
    "# E.g.      group9_df_AQM_50\n",
    "\n",
    "group9_data = [group9_df['Packet Delay (ms)'],\n",
    "              df10['Packet Delay (ms)']]\n",
    "\n",
    "# really = [group9_df_None_50['Packet Delay (ms)'],\n",
    "          #group9_df_None_64['Packet Delay (ms)'],\n",
    "          #group9_df_None_100['Packet Delay (ms)'],\n",
    "          #group9_df_None_180['Packet Delay (ms)']]\n",
    "\n",
    "reviewer_data = [target_df['Packet Delay (ms)'],\n",
    "                df11['Packet Delay (ms)']]\n",
    "\n",
    "fig, axs = plt.subplots(1,2)\n",
    "\n",
    "axs[0].boxplot(group9_data)\n",
    "axs[0].set_title('Group 9: Packet Delay with No AQM')\n",
    "axs[0].set_xticklabels([50, 64])\n",
    "\n",
    "axs[1].boxplot(reviewer_data)\n",
    "axs[1].set_title('Reviewer: Packet Delay with No AQM')\n",
    "axs[1].set_xticklabels([50, 64])\n",
    "\n",
    "fig.subplots_adjust(left=0.08, right=1.98, bottom=0.05, top=0.9,\n",
    "                    hspace=0.4, wspace=0.3)"
   ]
  },
  {
   "cell_type": "code",
   "execution_count": 16,
   "metadata": {},
   "outputs": [
    {
     "data": {
      "image/png": "[encoded data removed]",
      "text/plain": [
       "<matplotlib.figure.Figure at 0x7f94e0ea7978>"
      ]
     },
     "metadata": {
      "needs_background": "light"
     },
     "output_type": "display_data"
    }
   ],
   "source": [
    "# AQM = None\n",
    "# Variable = Link Utilization\n",
    "# Left plot = Group 9's Results\n",
    "# Right plot = Reviewer's Results\n",
    "\n",
    "# Notation: who_df_AQM_bw-low\n",
    "# E.g.      group9_df_AQM_50\n",
    "\n",
    "group9_data = [group9_df['Link Utilization (%)'],\n",
    "              df10['Link Utilization (%)']]\n",
    "\n",
    "reviewer_data = [target_df['Link Utilization (%)'],\n",
    "                df11['Link Utilization (%)']]\n",
    "\n",
    "fig, axs = plt.subplots(1,2)\n",
    "\n",
    "axs[0].boxplot(group9_data)\n",
    "axs[0].set_title('Group 9: Link Utilization with No AQM')\n",
    "axs[0].set_xticklabels([50, 64])\n",
    "\n",
    "axs[1].boxplot(reviewer_data)\n",
    "axs[1].set_title('Reviewer: Link Utilization with No AQM')\n",
    "axs[1].set_xticklabels([50, 64])\n",
    "\n",
    "fig.subplots_adjust(left=0.08, right=1.98, bottom=0.05, top=0.9,\n",
    "                    hspace=0.4, wspace=0.3)"
   ]
  },
  {
   "cell_type": "code",
   "execution_count": 17,
   "metadata": {},
   "outputs": [
    {
     "data": {
      "image/png": "[encoded data removed]",
      "text/plain": [
       "<matplotlib.figure.Figure at 0x7f94e0d45b38>"
      ]
     },
     "metadata": {
      "needs_background": "light"
     },
     "output_type": "display_data"
    }
   ],
   "source": [
    "# AQM = RED\n",
    "# Variable = Packet Delay\n",
    "# Left plot = Group 9's Results\n",
    "# Right plot = Reviewer's Results\n",
    "\n",
    "# Notation: who_df_AQM_bw-low\n",
    "# E.g.      group9_df_AQM_50\n",
    "\n",
    "group9_data = [group9_df['Packet Delay (ms)'],\n",
    "              df10['Packet Delay (ms)']]\n",
    "\n",
    "reviewer_data = [target_df['Packet Delay (ms)'],\n",
    "                df11['Packet Delay (ms)']]\n",
    "\n",
    "fig, axs = plt.subplots(1,2)\n",
    "\n",
    "axs[0].boxplot(group9_data)\n",
    "axs[0].set_title('Group 9: Packet Delay with RED')\n",
    "axs[0].set_xticklabels([50, 64])\n",
    "\n",
    "axs[1].boxplot(reviewer_data)\n",
    "axs[1].set_title('Reviewer: Packet Delay with RED')\n",
    "axs[1].set_xticklabels([50, 64])\n",
    "\n",
    "fig.subplots_adjust(left=0.08, right=1.98, bottom=0.05, top=0.9,\n",
    "                    hspace=0.4, wspace=0.3)"
   ]
  },
  {
   "cell_type": "code",
   "execution_count": 18,
   "metadata": {},
   "outputs": [
    {
     "data": {
      "image/png": "[encoded data removed]",
      "text/plain": [
       "<matplotlib.figure.Figure at 0x7f94e0c4c630>"
      ]
     },
     "metadata": {
      "needs_background": "light"
     },
     "output_type": "display_data"
    }
   ],
   "source": [
    "# AQM = RED\n",
    "# Variable = Link Utilization\n",
    "# Left plot = Group 9's Results\n",
    "# Right plot = Reviewer's Results\n",
    "\n",
    "# Notation: who_df_AQM_bw-low\n",
    "# E.g.      group9_df_AQM_50\n",
    "\n",
    "group9_data = [group9_df['Link Utilization (%)'],\n",
    "              df10['Link Utilization (%)']]\n",
    "\n",
    "reviewer_data = [target_df['Link Utilization (%)'],\n",
    "                df11['Link Utilization (%)']]\n",
    "\n",
    "fig, axs = plt.subplots(1,2)\n",
    "\n",
    "axs[0].boxplot(group9_data)\n",
    "axs[0].set_title('Group 9: Link Utilization with RED')\n",
    "axs[0].set_xticklabels([50, 64])\n",
    "\n",
    "axs[1].boxplot(reviewer_data)\n",
    "axs[1].set_title('Reviewer: Link Utilization with RED')\n",
    "axs[1].set_xticklabels([50, 64])\n",
    "\n",
    "fig.subplots_adjust(left=0.08, right=1.98, bottom=0.05, top=0.9,\n",
    "                    hspace=0.4, wspace=0.3)"
   ]
  },
  {
   "cell_type": "code",
   "execution_count": 19,
   "metadata": {},
   "outputs": [
    {
     "data": {
      "image/png": "[encoded data removed]",
      "text/plain": [
       "<matplotlib.figure.Figure at 0x7f94e0b6df98>"
      ]
     },
     "metadata": {
      "needs_background": "light"
     },
     "output_type": "display_data"
    }
   ],
   "source": [
    "# AQM = CoDel\n",
    "# Variable = Packet Delay\n",
    "# Left plot = Group 9's Results\n",
    "# Right plot = Reviewer's Results\n",
    "\n",
    "# Notation: who_df_AQM_bw-low\n",
    "# E.g.      group9_df_AQM_50\n",
    "\n",
    "group9_data = [group9_df['Packet Delay (ms)'],\n",
    "              df10['Packet Delay (ms)']]\n",
    "\n",
    "reviewer_data = [target_df['Packet Delay (ms)'],\n",
    "                df11['Packet Delay (ms)']]\n",
    "\n",
    "fig, axs = plt.subplots(1,2)\n",
    "\n",
    "axs[0].boxplot(group9_data)\n",
    "axs[0].set_title('Group 9: Packet Delay with CoDel')\n",
    "axs[0].set_xticklabels([50, 64])\n",
    "\n",
    "axs[1].boxplot(reviewer_data)\n",
    "axs[1].set_title('Reviewer: Packet Delay with CoDel')\n",
    "axs[1].set_xticklabels([50, 64])\n",
    "\n",
    "fig.subplots_adjust(left=0.08, right=1.98, bottom=0.05, top=0.9,\n",
    "                    hspace=0.4, wspace=0.3)"
   ]
  },
  {
   "cell_type": "code",
   "execution_count": 20,
   "metadata": {},
   "outputs": [
    {
     "data": {
      "image/png": "[encoded data removed]",
      "text/plain": [
       "<matplotlib.figure.Figure at 0x7f94e0a07898>"
      ]
     },
     "metadata": {
      "needs_background": "light"
     },
     "output_type": "display_data"
    }
   ],
   "source": [
    "# AQM = CoDel\n",
    "# Variable = Link Utilization\n",
    "# Left plot = Group 9's Results\n",
    "# Right plot = Reviewer's Results\n",
    "\n",
    "# Notation: who_df_AQM_bw-low\n",
    "# E.g.      group9_df_AQM_50\n",
    "\n",
    "group9_data = [group9_df['Link Utilization (%)'],\n",
    "              df10['Link Utilization (%)']]\n",
    "\n",
    "reviewer_data = [target_df['Link Utilization (%)'],\n",
    "                df11['Link Utilization (%)']]\n",
    "\n",
    "fig, axs = plt.subplots(1,2)\n",
    "\n",
    "axs[0].boxplot(group9_data)\n",
    "axs[0].set_title('Group 9: Link Utilization with CoDel')\n",
    "axs[0].set_xticklabels([50, 64])\n",
    "\n",
    "axs[1].boxplot(reviewer_data)\n",
    "axs[1].set_title('Reviewer: Link Utilization with CoDel')\n",
    "axs[1].set_xticklabels([50, 64])\n",
    "\n",
    "fig.subplots_adjust(left=0.08, right=1.98, bottom=0.05, top=0.9,\n",
    "                    hspace=0.4, wspace=0.3)"
   ]
  },
  {
   "cell_type": "markdown",
   "metadata": {},
   "source": [
    "# Automated Result Comparisons"
   ]
  },
  {
   "cell_type": "markdown",
   "metadata": {},
   "source": [
    "### AQM: None\n",
    "### Variable: Packet Delay\n",
    "### Left Plot: Group 9's Results\n",
    "### Right Plot: Reviewer's Results"
   ]
  },
  {
   "cell_type": "code",
   "execution_count": null,
   "metadata": {},
   "outputs": [],
   "source": [
    "#group9_data = [df_group9_none_50['Packet Delay (ms)'],\n",
    "              #df_group9_none_64['Packet Delay (ms)']]\n",
    "\n",
    "#reviewer_data = [df_reviewer_none_50['Packet Delay (ms)'],\n",
    "                #df_reviewer_none_64['Packet Delay (ms)']]\n",
    "\n",
    "#fig, axs = plt.subplots(1,2)\n",
    "\n",
    "#axs[0].boxplot(group9_data)\n",
    "#axs[0].set_title('Group 9: Packet Delay with No AQM')\n",
    "#axs[0].set_xticklabels([50, 64])\n",
    "\n",
    "#axs[1].boxplot(reviewer_data)\n",
    "#axs[1].set_title('Reviewer: Packet Delay with No AQM')\n",
    "#axs[1].set_xticklabels([50, 64])\n",
    "\n",
    "#fig.subplots_adjust(left=0.08, right=1.98, bottom=0.05, top=0.9,\n",
    "#                    hspace=0.4, wspace=0.3)"
   ]
  }
 ],
 "metadata": {
  "kernelspec": {
   "display_name": "Python 3",
   "language": "python",
   "name": "python3"
  },
  "language_info": {
   "codemirror_mode": {
    "name": "ipython",
    "version": 3
   },
   "file_extension": ".py",
   "mimetype": "text/x-python",
   "name": "python",
   "nbconvert_exporter": "python",
   "pygments_lexer": "ipython3",
   "version": "3.5.3"
  }
 },
 "nbformat": 4,
 "nbformat_minor": 4
}
