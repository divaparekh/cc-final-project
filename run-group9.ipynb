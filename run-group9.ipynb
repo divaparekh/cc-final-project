{
 "cells": [
  {
   "cell_type": "code",
   "execution_count": 32,
   "metadata": {},
   "outputs": [],
   "source": [
    "import pandas as pd"
   ]
  },
  {
   "cell_type": "code",
   "execution_count": 33,
   "metadata": {},
   "outputs": [
    {
     "data": {
      "text/plain": [
       "<_io.TextIOWrapper name='server_outputs/server10.output' mode='r' encoding='UTF-8'>"
      ]
     },
     "execution_count": 33,
     "metadata": {},
     "output_type": "execute_result"
    }
   ],
   "source": [
    "#df = pd.read_csv('server_outputs/server10.output')#, delim_whitespace=True)#sep=\" \")\n",
    "#df\n",
    "file = open('server_outputs/server10.output', 'r')\n",
    "file"
   ]
  },
  {
   "cell_type": "code",
   "execution_count": 34,
   "metadata": {},
   "outputs": [],
   "source": [
    "# Read as file, not dataframe\n",
    "# Go through line by line and continue (i.e. ignore line) if:\n",
    "    # line contains \"[SUM]\" or line contains \"received out-of-order\"\n",
    "    \n",
    "#for line in file:\n",
    "#    print(line)"
   ]
  },
  {
   "cell_type": "code",
   "execution_count": 35,
   "metadata": {},
   "outputs": [
    {
     "name": "stdout",
     "output_type": "stream",
     "text": [
      "WORSE LINE\n",
      "WORSE LINE\n",
      "WORSE LINE\n",
      "WORSE LINE\n",
      "WORSE LINE\n",
      "WORSE LINE\n",
      "WORSE LINE\n",
      "WORSE LINE\n",
      "BAD LINE\n",
      "[  5] 0.00-5.00 sec  9.38 KBytes  15.4 Kbits/sec  138.805 ms    0/   32 (0%) 2502.151/90.692/4999.138/1504.371 ms    6 pps\n",
      "\n",
      "[  3] 0.00-5.00 sec  9.38 KBytes  15.4 Kbits/sec  142.236 ms    0/   32 (0%) 2510.412/28.125/5053.850/1515.408 ms    6 pps\n",
      "\n",
      "[  4] 0.00-5.00 sec  9.67 KBytes  15.8 Kbits/sec  138.615 ms    1/   33 (3%) 2542.950/30.874/5106.316/1573.577 ms    6 pps\n",
      "\n",
      "WORSE LINE\n",
      "WORSE LINE\n",
      "WORSE LINE\n",
      "[  4] 5.00-10.00 sec  8.50 KBytes  13.9 Kbits/sec  163.792 ms    0/   29 (0%) 7733.099/5106.316/9909.988/1393.616 ms    6 pps\n",
      "\n",
      "[  5] 5.00-10.00 sec  9.08 KBytes  14.9 Kbits/sec  154.924 ms    0/   31 (0%) 7759.179/4999.138/9962.417/1464.584 ms    6 pps\n",
      "\n",
      "[  3] 5.00-10.00 sec  9.08 KBytes  14.9 Kbits/sec  157.884 ms    0/   31 (0%) 7773.300/5053.850/10017.125/1460.866 ms    6 pps\n",
      "\n",
      "WORSE LINE\n",
      "[  4] 10.00-15.00 sec  9.08 KBytes  14.9 Kbits/sec  160.745 ms    0/   31 (0%) 12719.020/9909.988/14818.590/1467.003 ms    6 pps\n",
      "\n",
      "[  5] 10.00-15.00 sec  8.79 KBytes  14.4 Kbits/sec  160.598 ms    0/   30 (0%) 12874.650/9962.417/14873.286/1422.067 ms    6 pps\n",
      "\n",
      "[  3] 10.00-15.00 sec  8.79 KBytes  14.4 Kbits/sec  162.953 ms    0/   30 (0%) 12892.889/10017.125/14927.985/1427.843 ms    6 pps\n",
      "\n",
      "WORSE LINE\n",
      "[  5] 15.00-20.00 sec  8.79 KBytes  14.4 Kbits/sec  164.118 ms    0/   30 (0%) 17892.645/14873.286/19784.117/1437.173 ms    6 pps\n",
      "\n",
      "[  4] 15.00-20.00 sec  9.08 KBytes  14.9 Kbits/sec  160.451 ms    0/   31 (0%) 17911.249/14818.590/19836.578/1469.007 ms    6 pps\n",
      "\n",
      "[  3] 15.00-20.00 sec  9.08 KBytes  14.9 Kbits/sec  164.427 ms    0/   31 (0%) 17960.653/14927.985/19946.027/1465.474 ms    6 pps\n",
      "\n",
      "WORSE LINE\n",
      "[  3] 20.00-25.00 sec  8.79 KBytes  14.4 Kbits/sec  156.176 ms    0/   30 (0%) 23097.982/19946.027/24692.683/1427.501 ms    6 pps\n",
      "\n",
      "[  4] 20.00-25.00 sec  8.79 KBytes  14.4 Kbits/sec  163.816 ms    0/   30 (0%) 23028.684/19836.578/24747.386/1431.907 ms    6 pps\n",
      "\n",
      "[  5] 20.00-25.00 sec  9.08 KBytes  14.9 Kbits/sec  165.586 ms    0/   31 (0%) 22957.547/19784.117/24802.055/1464.255 ms    6 pps\n",
      "\n",
      "WORSE LINE\n",
      "[  4] 25.00-30.00 sec  8.79 KBytes  14.4 Kbits/sec  272.782 ms    0/   30 (0%) 27640.976/24747.386/28848.910/1082.622 ms    6 pps\n",
      "\n",
      "[  4] 0.00-30.05 sec  53.9 KBytes  14.7 Kbits/sec  272.782 ms    1/  184 (0.54%) 14692.318/30.874/28848.910/8517.594 ms    6 pps\n",
      "\n",
      "WORSE LINE\n",
      "[  3] 25.00-30.00 sec  9.08 KBytes  14.9 Kbits/sec  256.584 ms    0/   31 (0%) 27571.183/24692.683/28632.316/1011.629 ms    6 pps\n",
      "\n",
      "[  3] 0.00-30.11 sec  54.2 KBytes  14.7 Kbits/sec  256.584 ms    0/  185 (0%) 14799.356/28.125/28632.316/8518.001 ms    6 pps\n",
      "\n",
      "[  5] 25.00-30.00 sec  9.08 KBytes  14.9 Kbits/sec  259.767 ms    0/   31 (0%) 27572.948/24802.055/28687.044/1030.946 ms    6 pps\n",
      "\n",
      "WORSE LINE\n",
      "[  5] 0.00-30.16 sec  54.2 KBytes  14.7 Kbits/sec  259.767 ms    0/  185 (0%) 14787.279/90.692/28687.044/8517.432 ms    6 pps\n",
      "\n",
      "WORSE LINE\n",
      "WORSE LINE\n"
     ]
    }
   ],
   "source": [
    "# This boolean tells us whether we've seen [ ID] - this will be the header column of our table\n",
    "start_analyzing = False\n",
    "\n",
    "for line in file:\n",
    "    \n",
    "    if \"[ ID]\" in line:\n",
    "        start_analyzing = True\n",
    "        print('BAD LINE')\n",
    "        continue\n",
    "        \n",
    "    if not start_analyzing or \"[SUM]\" in line or \"out-of-order\" in line:\n",
    "        print('WORSE LINE')\n",
    "        continue\n",
    "    \n",
    "    print(line)"
   ]
  },
  {
   "cell_type": "code",
   "execution_count": null,
   "metadata": {},
   "outputs": [],
   "source": []
  }
 ],
 "metadata": {
  "kernelspec": {
   "display_name": "Python 3",
   "language": "python",
   "name": "python3"
  },
  "language_info": {
   "codemirror_mode": {
    "name": "ipython",
    "version": 3
   },
   "file_extension": ".py",
   "mimetype": "text/x-python",
   "name": "python",
   "nbconvert_exporter": "python",
   "pygments_lexer": "ipython3",
   "version": "3.5.3"
  }
 },
 "nbformat": 4,
 "nbformat_minor": 4
}
